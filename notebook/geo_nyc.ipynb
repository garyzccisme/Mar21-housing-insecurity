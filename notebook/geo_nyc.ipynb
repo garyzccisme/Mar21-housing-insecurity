{
 "cells": [
  {
   "cell_type": "code",
   "execution_count": 1,
   "metadata": {},
   "outputs": [],
   "source": [
    "# import json\n",
    "# import datetime\n",
    "\n",
    "# import geopandas\n",
    "# import matplotlib.pyplot as plt\n",
    "# import numpy as np\n",
    "# import pandas as pd\n",
    "# import plotly\n",
    "# import plotly.express as px\n"
   ]
  },
  {
   "cell_type": "markdown",
   "metadata": {},
   "source": [
    "# Load Data"
   ]
  },
  {
   "cell_type": "code",
   "execution_count": 2,
   "metadata": {},
   "outputs": [],
   "source": [
    "# school = geopandas.read_file(\"../data/geo/nyc_school_districts.geojson\")\n",
    "# census = geopandas.read_file(\"../data/geo/nyc_2010_tracts_formatted.geojson\")\n",
    "# nyc = pd.read_csv(\"../data/raw/nyc_evictions_geocoded.csv\")"
   ]
  },
  {
   "cell_type": "markdown",
   "metadata": {},
   "source": [
    "# Preprocess"
   ]
  },
  {
   "cell_type": "code",
   "execution_count": 3,
   "metadata": {},
   "outputs": [],
   "source": [
    "# nyc.columns = nyc.columns.str.lower()"
   ]
  },
  {
   "cell_type": "code",
   "execution_count": 4,
   "metadata": {},
   "outputs": [],
   "source": [
    "# nyc[['lon', 'lat']] = nyc.lon_lat.str.split(',', expand=True)\n",
    "# nyc[['eviction_address','lon_lat','lon','lat']].head()"
   ]
  },
  {
   "cell_type": "code",
   "execution_count": 5,
   "metadata": {},
   "outputs": [],
   "source": [
    "# nyc['executed_date'] = pd.to_datetime(nyc['executed_date'])\n",
    "# nyc['executed_year'] = nyc['executed_date'].dt.year\n",
    "# nyc['executed_month'] = nyc['executed_date'].dt.to_period('M')\n",
    "# # nyc['executed_week'] = nyc['executed_date'].dt.isocalendar().week"
   ]
  },
  {
   "cell_type": "markdown",
   "metadata": {},
   "source": [
    "# Outliers"
   ]
  },
  {
   "cell_type": "code",
   "execution_count": 6,
   "metadata": {},
   "outputs": [],
   "source": [
    "# nyc[nyc['executed_year'] == 2070]"
   ]
  },
  {
   "cell_type": "code",
   "execution_count": 7,
   "metadata": {},
   "outputs": [],
   "source": [
    "# nyc = nyc[nyc['executed_year'] != 2070].reset_index(drop=True)"
   ]
  },
  {
   "cell_type": "markdown",
   "metadata": {},
   "source": [
    "# Convert `nyc` to GeoDataFrame"
   ]
  },
  {
   "cell_type": "code",
   "execution_count": 8,
   "metadata": {},
   "outputs": [],
   "source": [
    "# nyc_gdf = geopandas.GeoDataFrame(nyc, geometry=geopandas.points_from_xy(nyc.lon, nyc.lat, crs=census.crs))"
   ]
  },
  {
   "cell_type": "markdown",
   "metadata": {},
   "source": [
    "# School Level Visualization"
   ]
  },
  {
   "cell_type": "code",
   "execution_count": 9,
   "metadata": {},
   "outputs": [],
   "source": [
    "# nyc_school = geopandas.sjoin(nyc_gdf, school, op='within',how='left')"
   ]
  },
  {
   "cell_type": "code",
   "execution_count": 10,
   "metadata": {},
   "outputs": [],
   "source": [
    "# nyc_school_total = nyc_school.groupby(['school_dist']).size().reset_index()\n",
    "# nyc_school_total.columns = ['school_dist', 'num_evictions']"
   ]
  },
  {
   "cell_type": "code",
   "execution_count": 11,
   "metadata": {},
   "outputs": [],
   "source": [
    "# with open('../data/geo/nyc_school_districts.geojson') as json_file:\n",
    "#     sdGeoJson = json.load(json_file)"
   ]
  },
  {
   "cell_type": "code",
   "execution_count": 12,
   "metadata": {},
   "outputs": [],
   "source": [
    "# fig = px.choropleth_mapbox(nyc_school_total, geojson=sdGeoJson, color=\"num_evictions\",\n",
    "#                    color_discrete_sequence = px.colors.qualitative.Dark24,\n",
    "#                    locations=\"school_dist\", featureidkey=\"properties.school_dist\",opacity=0.5)\n",
    "\n",
    "# fig.update_layout(\n",
    "#     height=800,\n",
    "#     title=\"Accumulative Number of Evictions by School District since 2017\",\n",
    "#     mapbox_style=\"streets\", \n",
    "#     mapbox_accesstoken='pk.eyJ1IjoiZGdpbGxlbiIsImEiOiJjam85OGFvaXIxZXRlM2tubG8zY3E0OHh1In0.KkjAoFhjOOFjXAEuZ1IRog',\n",
    "#     mapbox_zoom=9, \n",
    "#     mapbox_center = {\"lat\": 40.75, \"lon\": -73.9}\n",
    "# )\n",
    "\n",
    "# fig.show()"
   ]
  },
  {
   "cell_type": "code",
   "execution_count": 13,
   "metadata": {},
   "outputs": [],
   "source": [
    "# nyc_school_year = nyc_school.groupby(['school_dist', 'executed_year']).size().reset_index()\n",
    "# nyc_school_year.columns = ['school_dist', 'executed_year', 'num_evictions']"
   ]
  },
  {
   "cell_type": "code",
   "execution_count": 14,
   "metadata": {},
   "outputs": [],
   "source": [
    "# fig = px.choropleth_mapbox(\n",
    "#     nyc_school_year, geojson=sdGeoJson, color=\"num_evictions\",\n",
    "#     color_discrete_sequence = px.colors.qualitative.Dark24, range_color=[0, 2000],\n",
    "#     locations=\"school_dist\", featureidkey=\"properties.school_dist\", opacity=0.5,\n",
    "#     animation_frame='executed_year')\n",
    "\n",
    "# fig.update_layout(\n",
    "#     height=800,\n",
    "#     title=\"Yearly Number of Evictions by School District\",\n",
    "#     mapbox_style=\"streets\", \n",
    "#     mapbox_accesstoken='pk.eyJ1IjoiZGdpbGxlbiIsImEiOiJjam85OGFvaXIxZXRlM2tubG8zY3E0OHh1In0.KkjAoFhjOOFjXAEuZ1IRog',\n",
    "#     mapbox_zoom=9, \n",
    "#     mapbox_center = {\"lat\": 40.75, \"lon\": -73.9}\n",
    "# )\n",
    "\n",
    "# fig.show()"
   ]
  },
  {
   "cell_type": "code",
   "execution_count": 15,
   "metadata": {},
   "outputs": [],
   "source": [
    "# nyc_school_month = nyc_school.groupby(['school_dist', 'executed_month']).size().reset_index()\n",
    "# nyc_school_month['executed_month'] = nyc_school_month['executed_month'].astype(str)\n",
    "# nyc_school_month.columns = ['school_dist', 'executed_month', 'num_evictions']"
   ]
  },
  {
   "cell_type": "code",
   "execution_count": 16,
   "metadata": {},
   "outputs": [],
   "source": [
    "# fig = px.choropleth_mapbox(\n",
    "#     nyc_school_month, geojson=sdGeoJson, color=\"num_evictions\",\n",
    "#     color_discrete_sequence = px.colors.qualitative.Dark24, range_color=[0, 250],\n",
    "#     locations=\"school_dist\", featureidkey=\"properties.school_dist\", opacity=0.5,\n",
    "#     animation_frame='executed_month')\n",
    "\n",
    "# fig.update_layout(\n",
    "#     height=800,\n",
    "#     title=\"Monthly Number of Evictions by School District\",\n",
    "#     mapbox_style=\"streets\", \n",
    "#     mapbox_accesstoken='pk.eyJ1IjoiZGdpbGxlbiIsImEiOiJjam85OGFvaXIxZXRlM2tubG8zY3E0OHh1In0.KkjAoFhjOOFjXAEuZ1IRog',\n",
    "#     mapbox_zoom=9, \n",
    "#     mapbox_center = {\"lat\": 40.75, \"lon\": -73.9}\n",
    "# )\n",
    "\n",
    "# fig.show()"
   ]
  },
  {
   "cell_type": "markdown",
   "metadata": {},
   "source": [
    "# Time-Series Analysis"
   ]
  },
  {
   "cell_type": "code",
   "execution_count": 17,
   "metadata": {},
   "outputs": [],
   "source": [
    "# from gluonts.dataset.common import ListDataset\n",
    "# from gluonts.dataset.util import to_pandas\n",
    "# from gluonts.model.simple_feedforward import SimpleFeedForwardEstimator\n",
    "# from gluonts.mx.trainer import Trainer\n",
    "# from gluonts.evaluation.backtest import make_evaluation_predictions"
   ]
  },
  {
   "cell_type": "code",
   "execution_count": 18,
   "metadata": {},
   "outputs": [],
   "source": [
    "# # Generate time-series df\n",
    "# nyc_school_month['school_dist'] = nyc_school_month['school_dist'].astype(int)\n",
    "# table = nyc_school_month.pivot(index='school_dist', columns='executed_month', values='num_evictions')\n",
    "# table = table[table.columns[:-2]]\n",
    "# table = table.T\n",
    "\n",
    "# table.head()"
   ]
  },
  {
   "cell_type": "code",
   "execution_count": 19,
   "metadata": {},
   "outputs": [],
   "source": [
    "# # Generate train & test set\n",
    "# train_set = [{\n",
    "#     'start': pd.Timestamp('2017-01', freq='M'),\n",
    "#     'target': table[i].values[:35],\n",
    "#     'item_id': i,\n",
    "# } for i in range(1, 33)]\n",
    "\n",
    "# test_set = [{\n",
    "#     'start': pd.Timestamp('2017-01', freq='M'),\n",
    "#     'target': table[i].values,\n",
    "#     'item_id': i,\n",
    "# } for i in range(1, 33)]\n",
    "\n",
    "# train_set = ListDataset(train_set, freq='M')\n",
    "# test_set = ListDataset(test_set, freq='M')"
   ]
  },
  {
   "cell_type": "code",
   "execution_count": 20,
   "metadata": {},
   "outputs": [],
   "source": [
    "# train_entry = next(iter(train_set))\n",
    "# test_entry = next(iter(test_set))\n",
    "\n",
    "# train_series = to_pandas(train_entry)\n",
    "# test_series = to_pandas(test_entry)\n",
    "\n",
    "# fig, ax = plt.subplots(2, 1, sharex=True, sharey=True, figsize=(15, 8))\n",
    "# fig.suptitle(f\"School District {train_entry['item_id']}\", fontsize=16)\n",
    "\n",
    "# train_series.plot(ax=ax[0])\n",
    "# ax[0].grid(which=\"both\")\n",
    "# ax[0].legend([\"train series\"], loc=\"upper left\")\n",
    "\n",
    "# test_series.plot(ax=ax[1])\n",
    "# ax[1].axvline(train_series.index[-1], color='r') # end of train dataset\n",
    "# ax[1].grid(which=\"both\")\n",
    "# ax[1].legend([\"test series\", \"end of train series\"], loc=\"upper left\")\n",
    "\n",
    "# plt.show()"
   ]
  },
  {
   "cell_type": "code",
   "execution_count": 21,
   "metadata": {},
   "outputs": [],
   "source": [
    "# estimator = SimpleFeedForwardEstimator(\n",
    "#     num_hidden_dimensions=[10],\n",
    "#     prediction_length=4,\n",
    "#     freq='M',\n",
    "#     trainer=Trainer(ctx=\"cpu\",\n",
    "#                     epochs=10,\n",
    "#                     learning_rate=1e-3,\n",
    "#                     hybridize=False,\n",
    "#                     num_batches_per_epoch=100\n",
    "#                    )\n",
    "# )"
   ]
  },
  {
   "cell_type": "code",
   "execution_count": 22,
   "metadata": {},
   "outputs": [],
   "source": [
    "# predictor = estimator.train(train_set)"
   ]
  },
  {
   "cell_type": "code",
   "execution_count": 23,
   "metadata": {},
   "outputs": [],
   "source": [
    "# forecast_it, ts_it = make_evaluation_predictions(\n",
    "#     dataset=test_set,  # test dataset\n",
    "#     predictor=predictor,  # predictor\n",
    "#     num_samples=100,  # number of sample paths we want for evaluation\n",
    "# )"
   ]
  },
  {
   "cell_type": "code",
   "execution_count": 24,
   "metadata": {},
   "outputs": [],
   "source": [
    "# forecasts = list(forecast_it)\n",
    "# tss = list(ts_it)"
   ]
  },
  {
   "cell_type": "code",
   "execution_count": 25,
   "metadata": {},
   "outputs": [],
   "source": [
    "# # first entry of the time series list\n",
    "# ts_entry = tss[0]\n",
    "\n",
    "# # first entry of the forecast list\n",
    "# forecast_entry = forecasts[0]\n",
    "# print(f\"Number of sample paths: {forecast_entry.num_samples}\")\n",
    "# print(f\"Dimension of samples: {forecast_entry.samples.shape}\")\n",
    "# print(f\"Start date of the forecast window: {forecast_entry.start_date}\")\n",
    "# print(f\"Frequency of the time series: {forecast_entry.freq}\")"
   ]
  },
  {
   "cell_type": "code",
   "execution_count": 26,
   "metadata": {},
   "outputs": [],
   "source": [
    "# print(f\"Mean of the future window:\\n {forecast_entry.mean}\")\n",
    "# print(f\"0.5-quantile (median) of the future window:\\n {forecast_entry.quantile(0.5)}\")"
   ]
  },
  {
   "cell_type": "code",
   "execution_count": 27,
   "metadata": {},
   "outputs": [],
   "source": [
    "# def plot_prob_forecasts(ts_entry, forecast_entry):\n",
    "#     plot_length = 150\n",
    "#     prediction_intervals = (50.0, 90.0)\n",
    "#     legend = [\"observations\", \"median prediction\"] + [f\"{k}% prediction interval\" for k in prediction_intervals][::-1]\n",
    "\n",
    "#     fig, ax = plt.subplots(1, 1, figsize=(10, 7))\n",
    "#     ts_entry[-plot_length:].plot(ax=ax)  # plot the time series\n",
    "#     forecast_entry.plot(prediction_intervals=prediction_intervals, color='g')\n",
    "#     plt.grid(which=\"both\")\n",
    "#     plt.legend(legend, loc=\"upper left\")\n",
    "#     plt.show()\n",
    "    \n",
    "\n",
    "# plot_prob_forecasts(ts_entry, forecast_entry)"
   ]
  },
  {
   "cell_type": "code",
   "execution_count": null,
   "metadata": {},
   "outputs": [],
   "source": []
  }
 ],
 "metadata": {
  "kernelspec": {
   "display_name": "Python 3",
   "language": "python",
   "name": "python3"
  },
  "language_info": {
   "codemirror_mode": {
    "name": "ipython",
    "version": 3
   },
   "file_extension": ".py",
   "mimetype": "text/x-python",
   "name": "python",
   "nbconvert_exporter": "python",
   "pygments_lexer": "ipython3",
   "version": "3.8.6"
  }
 },
 "nbformat": 4,
 "nbformat_minor": 4
}
